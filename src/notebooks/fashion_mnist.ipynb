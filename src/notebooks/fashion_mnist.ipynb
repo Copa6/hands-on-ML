{
 "cells": [
  {
   "cell_type": "code",
   "execution_count": 21,
   "metadata": {
    "ExecuteTime": {
     "end_time": "2020-08-17T03:30:04.519402Z",
     "start_time": "2020-08-17T03:30:04.514028Z"
    }
   },
   "outputs": [],
   "source": [
    "from collections import Counter\n",
    "import pandas as pd\n",
    "import matplotlib.pyplot as plt\n",
    "import tensorflow as tf\n",
    "from tensorflow import keras\n",
    "from tensorflow.keras.models import Sequential\n",
    "from tensorflow.keras.layers import Flatten, Dense\n",
    "\n",
    "%matplotlib inline"
   ]
  },
  {
   "cell_type": "code",
   "execution_count": 2,
   "metadata": {
    "ExecuteTime": {
     "end_time": "2020-08-17T03:15:25.432647Z",
     "start_time": "2020-08-17T03:15:19.444236Z"
    }
   },
   "outputs": [
    {
     "name": "stdout",
     "output_type": "stream",
     "text": [
      "Downloading data from https://storage.googleapis.com/tensorflow/tf-keras-datasets/train-labels-idx1-ubyte.gz\n",
      "32768/29515 [=================================] - 0s 0us/step\n",
      "Downloading data from https://storage.googleapis.com/tensorflow/tf-keras-datasets/train-images-idx3-ubyte.gz\n",
      "26427392/26421880 [==============================] - 2s 0us/step\n",
      "Downloading data from https://storage.googleapis.com/tensorflow/tf-keras-datasets/t10k-labels-idx1-ubyte.gz\n",
      "8192/5148 [===============================================] - 0s 0us/step\n",
      "Downloading data from https://storage.googleapis.com/tensorflow/tf-keras-datasets/t10k-images-idx3-ubyte.gz\n",
      "4423680/4422102 [==============================] - 1s 0us/step\n"
     ]
    }
   ],
   "source": [
    "# Load data\n",
    "fashion_mnist = keras.datasets.fashion_mnist\n",
    "(X_train_full, y_train_full), (X_test, y_test) = fashion_mnist.load_data()"
   ]
  },
  {
   "cell_type": "code",
   "execution_count": 7,
   "metadata": {
    "ExecuteTime": {
     "end_time": "2020-08-17T03:17:14.841493Z",
     "start_time": "2020-08-17T03:17:14.830056Z"
    }
   },
   "outputs": [
    {
     "name": "stdout",
     "output_type": "stream",
     "text": [
      "(60000, 28, 28)\n",
      "(60000,)\n"
     ]
    }
   ],
   "source": [
    "print(X_train_full.shape)\n",
    "print(y_train_full.shape)\n",
    "class_names = [\"T-shirt/top\", \"Trouser\", \"Pullover\", \"Dress\", \"Coat\",\n",
    "\"Sandal\", \"Shirt\", \"Sneaker\", \"Bag\", \"Ankle boot\"]"
   ]
  },
  {
   "cell_type": "code",
   "execution_count": 18,
   "metadata": {
    "ExecuteTime": {
     "end_time": "2020-08-17T03:25:08.564982Z",
     "start_time": "2020-08-17T03:25:08.544327Z"
    }
   },
   "outputs": [
    {
     "name": "stdout",
     "output_type": "stream",
     "text": [
      "Target_distribution_train = Counter({9: 6000, 0: 6000, 3: 6000, 2: 6000, 7: 6000, 5: 6000, 1: 6000, 6: 6000, 4: 6000, 8: 6000})\n",
      "Target_distribution_test = Counter({9: 1000, 2: 1000, 1: 1000, 6: 1000, 4: 1000, 5: 1000, 7: 1000, 3: 1000, 8: 1000, 0: 1000})\n"
     ]
    }
   ],
   "source": [
    "print(f\"Target_distribution_train = {Counter(y_train_full)}\")\n",
    "print(f\"Target_distribution_test = {Counter(y_test)}\")"
   ]
  },
  {
   "cell_type": "code",
   "execution_count": 13,
   "metadata": {
    "ExecuteTime": {
     "end_time": "2020-08-17T03:20:58.142939Z",
     "start_time": "2020-08-17T03:20:57.765159Z"
    }
   },
   "outputs": [
    {
     "name": "stdout",
     "output_type": "stream",
     "text": [
      "Ankle boot\n"
     ]
    },
    {
     "data": {
      "image/png": "[encoded data removed]",
      "text/plain": [
       "<Figure size 432x288 with 1 Axes>"
      ]
     },
     "metadata": {
      "needs_background": "light"
     },
     "output_type": "display_data"
    },
    {
     "name": "stdout",
     "output_type": "stream",
     "text": [
      "==================================================\n",
      "T-shirt/top\n"
     ]
    },
    {
     "data": {
      "image/png": "[encoded data removed]",
      "text/plain": [
       "<Figure size 432x288 with 1 Axes>"
      ]
     },
     "metadata": {
      "needs_background": "light"
     },
     "output_type": "display_data"
    },
    {
     "name": "stdout",
     "output_type": "stream",
     "text": [
      "==================================================\n",
      "T-shirt/top\n"
     ]
    },
    {
     "data": {
      "image/png": "[encoded data removed]",
      "text/plain": [
       "<Figure size 432x288 with 1 Axes>"
      ]
     },
     "metadata": {
      "needs_background": "light"
     },
     "output_type": "display_data"
    },
    {
     "name": "stdout",
     "output_type": "stream",
     "text": [
      "==================================================\n",
      "Dress\n"
     ]
    },
    {
     "data": {
      "image/png": "[encoded data removed]",
      "text/plain": [
       "<Figure size 432x288 with 1 Axes>"
      ]
     },
     "metadata": {
      "needs_background": "light"
     },
     "output_type": "display_data"
    },
    {
     "name": "stdout",
     "output_type": "stream",
     "text": [
      "==================================================\n",
      "T-shirt/top\n"
     ]
    },
    {
     "data": {
      "image/png": "[encoded data removed]",
      "text/plain": [
       "<Figure size 432x288 with 1 Axes>"
      ]
     },
     "metadata": {
      "needs_background": "light"
     },
     "output_type": "display_data"
    },
    {
     "name": "stdout",
     "output_type": "stream",
     "text": [
      "==================================================\n"
     ]
    }
   ],
   "source": [
    "# View sample images\n",
    "samples = X_train_full[:5] # First 5 samples\n",
    "targets = [class_names[i] for i in y_train_full[:5]]\n",
    "for img, target in zip(samples, targets):\n",
    "    print(target)\n",
    "    plt.imshow(img, cmap=\"gray\")\n",
    "    plt.show()\n",
    "    print(\"=\"*50)"
   ]
  },
  {
   "cell_type": "code",
   "execution_count": 30,
   "metadata": {
    "ExecuteTime": {
     "end_time": "2020-08-17T03:37:38.441653Z",
     "start_time": "2020-08-17T03:37:38.335468Z"
    }
   },
   "outputs": [],
   "source": [
    "# Split into training and validation sample and normalize\n",
    "split = 0.8 # 80% train\n",
    "train_size = int(0.8*X_train_full.shape[0])\n",
    "X_train, X_val = X_train_full[:train_size]/255.0, X_train_full[train_size:]/255.0\n",
    "X_test = X_test/255.0\n",
    "y_train, y_val = y_train_full[:train_size], y_train_full[train_size:]"
   ]
  },
  {
   "cell_type": "code",
   "execution_count": 23,
   "metadata": {
    "ExecuteTime": {
     "end_time": "2020-08-17T03:31:52.397643Z",
     "start_time": "2020-08-17T03:31:52.355104Z"
    }
   },
   "outputs": [
    {
     "name": "stdout",
     "output_type": "stream",
     "text": [
      "Model: \"sequential_1\"\n",
      "_________________________________________________________________\n",
      "Layer (type)                 Output Shape              Param #   \n",
      "=================================================================\n",
      "flatten (Flatten)            (None, 784)               0         \n",
      "_________________________________________________________________\n",
      "dense (Dense)                (None, 300)               235500    \n",
      "_________________________________________________________________\n",
      "dense_1 (Dense)              (None, 100)               30100     \n",
      "_________________________________________________________________\n",
      "dense_2 (Dense)              (None, 10)                1010      \n",
      "=================================================================\n",
      "Total params: 266,610\n",
      "Trainable params: 266,610\n",
      "Non-trainable params: 0\n",
      "_________________________________________________________________\n"
     ]
    }
   ],
   "source": [
    "#Init model\n",
    "model = Sequential()\n",
    "model.add(Flatten(input_shape=[28,28]))\n",
    "model.add(Dense(300, activation=\"relu\"))\n",
    "model.add(Dense(100, activation=\"relu\"))\n",
    "model.add(Dense(10, activation=\"softmax\"))\n",
    "\n",
    "model.summary()"
   ]
  },
  {
   "cell_type": "code",
   "execution_count": 26,
   "metadata": {
    "ExecuteTime": {
     "end_time": "2020-08-17T03:33:04.563009Z",
     "start_time": "2020-08-17T03:33:04.549269Z"
    }
   },
   "outputs": [],
   "source": [
    "# compile model - Naive\n",
    "model.compile(loss=\"sparse_categorical_crossentropy\",\n",
    "optimizer=\"sgd\",\n",
    "metrics=[\"accuracy\"])"
   ]
  },
  {
   "cell_type": "code",
   "execution_count": 27,
   "metadata": {
    "ExecuteTime": {
     "end_time": "2020-08-17T03:35:57.101239Z",
     "start_time": "2020-08-17T03:34:44.843902Z"
    }
   },
   "outputs": [
    {
     "name": "stdout",
     "output_type": "stream",
     "text": [
      "Epoch 1/40\n",
      "1500/1500 [==============================] - 2s 1ms/step - loss: 0.7481 - accuracy: 0.7524 - val_loss: 0.5494 - val_accuracy: 0.8139\n",
      "Epoch 2/40\n",
      "1500/1500 [==============================] - 2s 1ms/step - loss: 0.5033 - accuracy: 0.8260 - val_loss: 0.4774 - val_accuracy: 0.8320\n",
      "Epoch 3/40\n",
      "1500/1500 [==============================] - 2s 1ms/step - loss: 0.4561 - accuracy: 0.8413 - val_loss: 0.4635 - val_accuracy: 0.8341\n",
      "Epoch 4/40\n",
      "1500/1500 [==============================] - 2s 1ms/step - loss: 0.4286 - accuracy: 0.8505 - val_loss: 0.4177 - val_accuracy: 0.8533\n",
      "Epoch 5/40\n",
      "1500/1500 [==============================] - 2s 1ms/step - loss: 0.4062 - accuracy: 0.8578 - val_loss: 0.4211 - val_accuracy: 0.8548\n",
      "Epoch 6/40\n",
      "1500/1500 [==============================] - 2s 1ms/step - loss: 0.3903 - accuracy: 0.8633 - val_loss: 0.3959 - val_accuracy: 0.8583\n",
      "Epoch 7/40\n",
      "1500/1500 [==============================] - 2s 1ms/step - loss: 0.3745 - accuracy: 0.8676 - val_loss: 0.3848 - val_accuracy: 0.8658\n",
      "Epoch 8/40\n",
      "1500/1500 [==============================] - 2s 1ms/step - loss: 0.3640 - accuracy: 0.8714 - val_loss: 0.3721 - val_accuracy: 0.8682\n",
      "Epoch 9/40\n",
      "1500/1500 [==============================] - 2s 1ms/step - loss: 0.3533 - accuracy: 0.8762 - val_loss: 0.3705 - val_accuracy: 0.8683\n",
      "Epoch 10/40\n",
      "1500/1500 [==============================] - 2s 1ms/step - loss: 0.3440 - accuracy: 0.8776 - val_loss: 0.3680 - val_accuracy: 0.8691\n",
      "Epoch 11/40\n",
      "1500/1500 [==============================] - 2s 1ms/step - loss: 0.3361 - accuracy: 0.8792 - val_loss: 0.3612 - val_accuracy: 0.8704\n",
      "Epoch 12/40\n",
      "1500/1500 [==============================] - 2s 1ms/step - loss: 0.3264 - accuracy: 0.8840 - val_loss: 0.3626 - val_accuracy: 0.8732\n",
      "Epoch 13/40\n",
      "1500/1500 [==============================] - 2s 1ms/step - loss: 0.3196 - accuracy: 0.8863 - val_loss: 0.3726 - val_accuracy: 0.8708\n",
      "Epoch 14/40\n",
      "1500/1500 [==============================] - 2s 1ms/step - loss: 0.3127 - accuracy: 0.8883 - val_loss: 0.3498 - val_accuracy: 0.8769\n",
      "Epoch 15/40\n",
      "1500/1500 [==============================] - 2s 1ms/step - loss: 0.3049 - accuracy: 0.8909 - val_loss: 0.3675 - val_accuracy: 0.8646\n",
      "Epoch 16/40\n",
      "1500/1500 [==============================] - 2s 1ms/step - loss: 0.2991 - accuracy: 0.8935 - val_loss: 0.3339 - val_accuracy: 0.8811\n",
      "Epoch 17/40\n",
      "1500/1500 [==============================] - 2s 1ms/step - loss: 0.2928 - accuracy: 0.8956 - val_loss: 0.3720 - val_accuracy: 0.8676\n",
      "Epoch 18/40\n",
      "1500/1500 [==============================] - 2s 1ms/step - loss: 0.2890 - accuracy: 0.8956 - val_loss: 0.3366 - val_accuracy: 0.8806\n",
      "Epoch 19/40\n",
      "1500/1500 [==============================] - 2s 1ms/step - loss: 0.2827 - accuracy: 0.8980 - val_loss: 0.3395 - val_accuracy: 0.8773\n",
      "Epoch 20/40\n",
      "1500/1500 [==============================] - 2s 1ms/step - loss: 0.2773 - accuracy: 0.9011 - val_loss: 0.3590 - val_accuracy: 0.8695\n",
      "Epoch 21/40\n",
      "1500/1500 [==============================] - 2s 1ms/step - loss: 0.2736 - accuracy: 0.9008 - val_loss: 0.3298 - val_accuracy: 0.8826\n",
      "Epoch 22/40\n",
      "1500/1500 [==============================] - 2s 1ms/step - loss: 0.2680 - accuracy: 0.9032 - val_loss: 0.3318 - val_accuracy: 0.8835\n",
      "Epoch 23/40\n",
      "1500/1500 [==============================] - 2s 1ms/step - loss: 0.2638 - accuracy: 0.9054 - val_loss: 0.3201 - val_accuracy: 0.8880\n",
      "Epoch 24/40\n",
      "1500/1500 [==============================] - 2s 1ms/step - loss: 0.2584 - accuracy: 0.9078 - val_loss: 0.3207 - val_accuracy: 0.8867\n",
      "Epoch 25/40\n",
      "1500/1500 [==============================] - 2s 1ms/step - loss: 0.2554 - accuracy: 0.9075 - val_loss: 0.3548 - val_accuracy: 0.8721\n",
      "Epoch 26/40\n",
      "1500/1500 [==============================] - 2s 1ms/step - loss: 0.2503 - accuracy: 0.9102 - val_loss: 0.3297 - val_accuracy: 0.8827\n",
      "Epoch 27/40\n",
      "1500/1500 [==============================] - 2s 1ms/step - loss: 0.2451 - accuracy: 0.9126 - val_loss: 0.3264 - val_accuracy: 0.8829\n",
      "Epoch 28/40\n",
      "1500/1500 [==============================] - 2s 1ms/step - loss: 0.2415 - accuracy: 0.9135 - val_loss: 0.3190 - val_accuracy: 0.8858\n",
      "Epoch 29/40\n",
      "1500/1500 [==============================] - 2s 1ms/step - loss: 0.2375 - accuracy: 0.9148 - val_loss: 0.3264 - val_accuracy: 0.8845\n",
      "Epoch 30/40\n",
      "1500/1500 [==============================] - 2s 1ms/step - loss: 0.2341 - accuracy: 0.9158 - val_loss: 0.3154 - val_accuracy: 0.8864\n",
      "Epoch 31/40\n",
      "1500/1500 [==============================] - 2s 1ms/step - loss: 0.2309 - accuracy: 0.9173 - val_loss: 0.3132 - val_accuracy: 0.8878\n",
      "Epoch 32/40\n",
      "1500/1500 [==============================] - 2s 1ms/step - loss: 0.2265 - accuracy: 0.9190 - val_loss: 0.3103 - val_accuracy: 0.8909\n",
      "Epoch 33/40\n",
      "1500/1500 [==============================] - 2s 1ms/step - loss: 0.2233 - accuracy: 0.9202 - val_loss: 0.3133 - val_accuracy: 0.8876\n",
      "Epoch 34/40\n",
      "1500/1500 [==============================] - 2s 1ms/step - loss: 0.2201 - accuracy: 0.9210 - val_loss: 0.3232 - val_accuracy: 0.8882\n",
      "Epoch 35/40\n",
      "1500/1500 [==============================] - 2s 1ms/step - loss: 0.2160 - accuracy: 0.9234 - val_loss: 0.3185 - val_accuracy: 0.8880\n",
      "Epoch 36/40\n",
      "1500/1500 [==============================] - 2s 1ms/step - loss: 0.2125 - accuracy: 0.9244 - val_loss: 0.3138 - val_accuracy: 0.8911\n",
      "Epoch 37/40\n",
      "1500/1500 [==============================] - 2s 1ms/step - loss: 0.2103 - accuracy: 0.9250 - val_loss: 0.3204 - val_accuracy: 0.8878\n",
      "Epoch 38/40\n",
      "1500/1500 [==============================] - 2s 1ms/step - loss: 0.2077 - accuracy: 0.9274 - val_loss: 0.3247 - val_accuracy: 0.8882\n",
      "Epoch 39/40\n",
      "1500/1500 [==============================] - 2s 1ms/step - loss: 0.2029 - accuracy: 0.9280 - val_loss: 0.3308 - val_accuracy: 0.8823\n",
      "Epoch 40/40\n",
      "1500/1500 [==============================] - 2s 1ms/step - loss: 0.2000 - accuracy: 0.9297 - val_loss: 0.3150 - val_accuracy: 0.8897\n"
     ]
    }
   ],
   "source": [
    "h = model.fit(X_train, y_train, epochs=40, batch_size=32, validation_data=(X_val, y_val))"
   ]
  },
  {
   "cell_type": "code",
   "execution_count": 28,
   "metadata": {
    "ExecuteTime": {
     "end_time": "2020-08-17T03:36:22.134591Z",
     "start_time": "2020-08-17T03:36:22.004026Z"
    }
   },
   "outputs": [
    {
     "data": {
      "image/png": "[encoded data removed]",
      "text/plain": [
       "<Figure size 576x360 with 1 Axes>"
      ]
     },
     "metadata": {
      "needs_background": "light"
     },
     "output_type": "display_data"
    }
   ],
   "source": [
    "pd.DataFrame(h.history).plot(figsize=(8, 5))\n",
    "plt.grid(True)\n",
    "plt.gca().set_ylim(0, 1) \n",
    "plt.show()"
   ]
  },
  {
   "cell_type": "code",
   "execution_count": 31,
   "metadata": {
    "ExecuteTime": {
     "end_time": "2020-08-17T03:37:44.015306Z",
     "start_time": "2020-08-17T03:37:43.505384Z"
    }
   },
   "outputs": [
    {
     "name": "stdout",
     "output_type": "stream",
     "text": [
      "313/313 [==============================] - 0s 1ms/step - loss: 0.3446 - accuracy: 0.8801\n"
     ]
    },
    {
     "data": {
      "text/plain": [
       "[0.34460902214050293, 0.8801000118255615]"
      ]
     },
     "execution_count": 31,
     "metadata": {},
     "output_type": "execute_result"
    }
   ],
   "source": [
    "# Evalute on test set \n",
    "model.evaluate(X_test, y_test)"
   ]
  },
  {
   "cell_type": "code",
   "execution_count": 33,
   "metadata": {
    "ExecuteTime": {
     "end_time": "2020-08-17T03:38:36.361877Z",
     "start_time": "2020-08-17T03:38:36.330513Z"
    }
   },
   "outputs": [
    {
     "data": {
      "text/plain": [
       "array([[0.  , 0.  , 0.  , 0.  , 0.  , 0.  , 0.  , 0.02, 0.  , 0.98],\n",
       "       [0.  , 0.  , 1.  , 0.  , 0.  , 0.  , 0.  , 0.  , 0.  , 0.  ],\n",
       "       [0.  , 1.  , 0.  , 0.  , 0.  , 0.  , 0.  , 0.  , 0.  , 0.  ],\n",
       "       [0.  , 1.  , 0.  , 0.  , 0.  , 0.  , 0.  , 0.  , 0.  , 0.  ],\n",
       "       [0.16, 0.  , 0.01, 0.  , 0.  , 0.  , 0.83, 0.  , 0.  , 0.  ]],\n",
       "      dtype=float32)"
      ]
     },
     "execution_count": 33,
     "metadata": {},
     "output_type": "execute_result"
    }
   ],
   "source": [
    "model.predict_proba(X_test[:5]).round(2)"
   ]
  },
  {
   "cell_type": "code",
   "execution_count": 36,
   "metadata": {
    "ExecuteTime": {
     "end_time": "2020-08-17T03:41:19.412166Z",
     "start_time": "2020-08-17T03:41:19.017121Z"
    }
   },
   "outputs": [
    {
     "name": "stdout",
     "output_type": "stream",
     "text": [
      "Actual - Ankle boot\n",
      "Prediction - Ankle boot\n"
     ]
    },
    {
     "data": {
      "image/png": "[encoded data removed]",
      "text/plain": [
       "<Figure size 432x288 with 1 Axes>"
      ]
     },
     "metadata": {
      "needs_background": "light"
     },
     "output_type": "display_data"
    },
    {
     "name": "stdout",
     "output_type": "stream",
     "text": [
      "==================================================\n",
      "Actual - Pullover\n",
      "Prediction - Pullover\n"
     ]
    },
    {
     "data": {
      "image/png": "[encoded data removed]",
      "text/plain": [
       "<Figure size 432x288 with 1 Axes>"
      ]
     },
     "metadata": {
      "needs_background": "light"
     },
     "output_type": "display_data"
    },
    {
     "name": "stdout",
     "output_type": "stream",
     "text": [
      "==================================================\n",
      "Actual - Trouser\n",
      "Prediction - Trouser\n"
     ]
    },
    {
     "data": {
      "image/png": "[encoded data removed]",
      "text/plain": [
       "<Figure size 432x288 with 1 Axes>"
      ]
     },
     "metadata": {
      "needs_background": "light"
     },
     "output_type": "display_data"
    },
    {
     "name": "stdout",
     "output_type": "stream",
     "text": [
      "==================================================\n",
      "Actual - Trouser\n",
      "Prediction - Trouser\n"
     ]
    },
    {
     "data": {
      "image/png": "[encoded data removed]",
      "text/plain": [
       "<Figure size 432x288 with 1 Axes>"
      ]
     },
     "metadata": {
      "needs_background": "light"
     },
     "output_type": "display_data"
    },
    {
     "name": "stdout",
     "output_type": "stream",
     "text": [
      "==================================================\n",
      "Actual - Shirt\n",
      "Prediction - Shirt\n"
     ]
    },
    {
     "data": {
      "image/png": "[encoded data removed]",
      "text/plain": [
       "<Figure size 432x288 with 1 Axes>"
      ]
     },
     "metadata": {
      "needs_background": "light"
     },
     "output_type": "display_data"
    },
    {
     "name": "stdout",
     "output_type": "stream",
     "text": [
      "==================================================\n"
     ]
    }
   ],
   "source": [
    "predictions = model.predict_classes(X_test[:5])\n",
    "true_labels = y_test[:5]\n",
    "for sample, pred, actual in zip(X_test[:5], predictions, true_labels):\n",
    "    print(f\"Actual - {class_names[actual]}\\nPrediction - {class_names[pred]}\")\n",
    "    plt.imshow(sample)\n",
    "    plt.show()\n",
    "    print(\"=\"*50)"
   ]
  },
  {
   "cell_type": "code",
   "execution_count": null,
   "metadata": {},
   "outputs": [],
   "source": []
  }
 ],
 "metadata": {
  "kernelspec": {
   "display_name": "Python 3",
   "language": "python",
   "name": "python3"
  },
  "language_info": {
   "codemirror_mode": {
    "name": "ipython",
    "version": 3
   },
   "file_extension": ".py",
   "mimetype": "text/x-python",
   "name": "python",
   "nbconvert_exporter": "python",
   "pygments_lexer": "ipython3",
   "version": "3.6.10"
  }
 },
 "nbformat": 4,
 "nbformat_minor": 4
}
